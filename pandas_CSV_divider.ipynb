{
 "metadata": {
  "language_info": {
   "codemirror_mode": {
    "name": "ipython",
    "version": 3
   },
   "file_extension": ".py",
   "mimetype": "text/x-python",
   "name": "python",
   "nbconvert_exporter": "python",
   "pygments_lexer": "ipython3",
   "version": "3.9.1"
  },
  "orig_nbformat": 4,
  "kernelspec": {
   "name": "python3",
   "display_name": "Python 3.9.1 64-bit"
  },
  "interpreter": {
   "hash": "aee8b7b246df8f9039afb4144a1f6fd8d2ca17a180786b69acc140d282b71a49"
  }
 },
 "nbformat": 4,
 "nbformat_minor": 2,
 "cells": [
  {
   "source": [
    "## Import libraries:"
   ],
   "cell_type": "markdown",
   "metadata": {}
  },
  {
   "cell_type": "code",
   "execution_count": 181,
   "metadata": {},
   "outputs": [],
   "source": [
    "import pandas as pd\n",
    "import numpy as np"
   ]
  },
  {
   "source": [
    "## Insert Variables:"
   ],
   "cell_type": "markdown",
   "metadata": {}
  },
  {
   "cell_type": "code",
   "execution_count": 192,
   "metadata": {},
   "outputs": [],
   "source": [
    "# Read the file and insert it into the file_path variable:\n",
    "file_path = '/Users/andressanchez/Google Drive/Data Science/Estudios/Projectos/mercadona_pricing/thegurus-opendata-mercadona-es-products.csv'\n",
    "\n",
    "# Create a Pandas DataFrame with it:\n",
    "file_path = pd.read_csv(file_path)"
   ]
  },
  {
   "cell_type": "code",
   "execution_count": 255,
   "metadata": {},
   "outputs": [],
   "source": [
    "# Insert the len of the file to the variable file_len:\n",
    "file_len = file_path.id.count()"
   ]
  },
  {
   "cell_type": "code",
   "execution_count": 258,
   "metadata": {},
   "outputs": [],
   "source": [
    "# Insert the total of rows that you would like each file to have:\n",
    "number_of_rows_per_file = 250000"
   ]
  },
  {
   "source": [
    "## Separate CSV into multiple files:"
   ],
   "cell_type": "markdown",
   "metadata": {}
  },
  {
   "source": [
    "### Print the CSV in parts:"
   ],
   "cell_type": "markdown",
   "metadata": {}
  },
  {
   "cell_type": "code",
   "execution_count": 222,
   "metadata": {},
   "outputs": [],
   "source": [
    "#This is a calleable function to print each file.\n",
    "def print_csv(table_to_csv, file_number):\n",
    "\n",
    "    # Asing the adress:\n",
    "    down_path = '/Users/andressanchez/Downloads/{}'.format('part_num_' + str(file_number) + '.csv')\n",
    "\n",
    "    if file_number == 1:\n",
    "\n",
    "        # Save the csv part into the adress:\n",
    "        table_to_csv.to_csv(down_path, index = False, sep = ',')\n",
    "\n",
    "    else:\n",
    "        # Save the csv part into the adress:\n",
    "        table_to_csv.to_csv(down_path, index = False, sep = ',', header = False)\n"
   ]
  },
  {
   "source": [
    "### Do all the operations to divide the file:"
   ],
   "cell_type": "markdown",
   "metadata": {}
  },
  {
   "cell_type": "code",
   "execution_count": 251,
   "metadata": {},
   "outputs": [],
   "source": [
    "# This is a func to divide the files.\n",
    "def divide(file_path, file_len, number_of_rows_per_file):\n",
    "\n",
    "    # Create the counter and add the first number of rows per file.\n",
    "    counter = 0\n",
    "    counter = number_of_rows_per_file\n",
    "\n",
    "    # Create the variable that will have the data to print into a csv file.\n",
    "    file_path_x = file_path.iloc[0:counter,:]\n",
    "\n",
    "    # print the file_path_x DataFrame:\n",
    "    file_number = 1\n",
    "    print_csv(file_path_x, file_number)\n",
    "\n",
    "    # Create the print bucle:\n",
    "    while counter < file_len & number_of_rows_per_file + counter + 1 < file_len:\n",
    "        \n",
    "        # Create last_counter to avoid duplicates.\n",
    "        last_counter = counter\n",
    "        counter = number_of_rows_per_file + counter\n",
    "\n",
    "        # Create the variable that will have the data to print into a csv file.\n",
    "        file_number = file_number + 1\n",
    "        file_path_x = file_path.iloc[last_counter:counter,:]\n",
    "\n",
    "        # print the file_path_x DataFrame:\n",
    "        print_csv(file_path_x, file_number)\n",
    "\n",
    "    # If the counter is no equal or greater than file_len print what is left:\n",
    "    file_path_x = file_path.iloc[counter + 1:file_len,:]\n",
    "    file_number = file_number + 1\n",
    "    print_csv(file_path_x, file_number)\n"
   ]
  },
  {
   "cell_type": "code",
   "execution_count": 259,
   "metadata": {},
   "outputs": [],
   "source": [
    "divide(file_path, file_len, number_of_rows_per_file)"
   ]
  },
  {
   "cell_type": "code",
   "execution_count": null,
   "metadata": {},
   "outputs": [],
   "source": []
  }
 ]
}